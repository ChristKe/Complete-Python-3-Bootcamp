{
 "cells": [
  {
   "cell_type": "code",
   "execution_count": 3,
   "id": "eb589f7b-64e3-48d0-8252-54f43047cd15",
   "metadata": {},
   "outputs": [
    {
     "name": "stdout",
     "output_type": "stream",
     "text": [
      "C\n",
      "h\n",
      "r\n",
      "i\n",
      "s\n",
      "t\n",
      " \n",
      "K\n",
      "e\n"
     ]
    }
   ],
   "source": [
    "mystring = 'Christ.Ke'\n",
    "for letter in mystring:\n",
    "    if letter == '.':\n",
    "        print(' ')    \n",
    "        continue\n",
    "    print(letter)"
   ]
  },
  {
   "cell_type": "code",
   "execution_count": 4,
   "id": "be5a8e3f-3d9a-4cad-a882-2e22d13314e1",
   "metadata": {},
   "outputs": [
    {
     "name": "stdout",
     "output_type": "stream",
     "text": [
      "C\n",
      "h\n",
      "r\n",
      "i\n",
      "s\n",
      "t\n",
      " \n"
     ]
    }
   ],
   "source": [
    "mystring = 'Christ.Ke'\n",
    "for letter in mystring:\n",
    "    if letter == '.':\n",
    "        print(' ')    \n",
    "        break\n",
    "    print(letter)"
   ]
  },
  {
   "cell_type": "code",
   "execution_count": 6,
   "id": "e89d50b7-05fc-4698-8290-4dc684d72b38",
   "metadata": {},
   "outputs": [],
   "source": [
    "lst = [0, 2 , 4, 6, 8, 10]"
   ]
  },
  {
   "cell_type": "code",
   "execution_count": 9,
   "id": "77c78188-8e5f-449b-9aa3-4666d33ad440",
   "metadata": {},
   "outputs": [],
   "source": [
    "lst.append(12)"
   ]
  },
  {
   "cell_type": "code",
   "execution_count": 10,
   "id": "ffc2f7d6-433d-4c89-af6a-705de5675b5f",
   "metadata": {},
   "outputs": [
    {
     "data": {
      "text/plain": [
       "[0, 2, 4, 6, 8, 10, 12]"
      ]
     },
     "execution_count": 10,
     "metadata": {},
     "output_type": "execute_result"
    }
   ],
   "source": [
    "lst"
   ]
  },
  {
   "cell_type": "code",
   "execution_count": 13,
   "id": "1e40f1d7-aff6-4047-8f1f-1b8f6ebab7e1",
   "metadata": {},
   "outputs": [
    {
     "data": {
      "text/plain": [
       "7"
      ]
     },
     "execution_count": 13,
     "metadata": {},
     "output_type": "execute_result"
    }
   ],
   "source": [
    "len(lst)"
   ]
  },
  {
   "cell_type": "code",
   "execution_count": null,
   "id": "764af464-d980-4597-b1f4-0d91bf25fa9d",
   "metadata": {},
   "outputs": [],
   "source": []
  }
 ],
 "metadata": {
  "kernelspec": {
   "display_name": "Python 3 (ipykernel)",
   "language": "python",
   "name": "python3"
  },
  "language_info": {
   "codemirror_mode": {
    "name": "ipython",
    "version": 3
   },
   "file_extension": ".py",
   "mimetype": "text/x-python",
   "name": "python",
   "nbconvert_exporter": "python",
   "pygments_lexer": "ipython3",
   "version": "3.9.13"
  }
 },
 "nbformat": 4,
 "nbformat_minor": 5
}
